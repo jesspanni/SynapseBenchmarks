{
 "cells": [
  {
   "cell_type": "markdown",
   "metadata": {},
   "source": [
    "# Synapse Analytics Benchmarks - Radius"
   ]
  },
  {
   "cell_type": "markdown",
   "metadata": {},
   "source": [
    "### Background\n",
    "\n",
    "Radius is a network telemetry format used in the Telecommunications industry. In 2016 endjin developed a solution on Azure for TalkTalk to enable them to rapidly ingest and process Radius packets and generate insights into the health of the network and the impact to customers.\n",
    "\n",
    "The solution was developed using Azure Data Lake Analytics which is no longer being actively developed by Microsoft so an alternative needs to be found.\n",
    "\n",
    "Azure Synapse SQL Serverless is a new offering. Like Azure Data Lake Analytics, SQL Serverless is SQL-based and provides query and data processing on a consumption basis so it feels like it could be a good option.\n",
    "\n",
    "### Experiment\n",
    "\n",
    "It is possible to replace Azure Data Lake Analytics with Azure Synapse SQL Serverless for the Talk Talk network health analytics solution.\n",
    "\n",
    "In order to be considered a replacement it's important to understand the performance charateristics of the service with regard to various factors such as representative data volumes, file sizes and formats. Performance should be comparable with ADLA.\n",
    "\n",
    "Since SQL Serverless does not support querying the native Radius format data will need to be pre-processed into a format that SQL Serverless supports. Formats under consideration are:\n",
    "\n",
    "- Parquet\n",
    "- CSV\n",
    "- CSV 2.0 (MisonCSV)"
   ]
  },
  {
   "cell_type": "markdown",
   "metadata": {},
   "source": [
    "## Define test parameters"
   ]
  },
  {
   "cell_type": "code",
   "execution_count": 100,
   "metadata": {},
   "outputs": [
    {
     "name": "stdin",
     "output_type": "stream",
     "text": [
      "Enter the password for the BenchmarkTool user ············\n"
     ]
    }
   ],
   "source": [
    "\n",
    "var server = \"endjin-ondemand.sql.azuresynapse.net\";\n",
    "var username = \"BenchmarkTool\";\n",
    "var _password = password(\"Enter the password for the BenchmarkTool user\");"
   ]
  },
  {
   "cell_type": "code",
   "execution_count": 101,
   "metadata": {},
   "outputs": [],
   "source": [
    "#r \"nuget:System.Data.SqlClient\"\n",
    "#r \"nuget:Microsoft.Data.Analysis,0.2.0\"\n",
    "#r \"nuget:Newtonsoft.Json,12.0.3\"\n",
    "    \n",
    "using System.Data;\n",
    "using System.Data.SqlClient;\n",
    "using System.Diagnostics;\n",
    "using Microsoft.Data.Analysis;\n",
    "using System.IO;\n",
    "using Newtonsoft.Json;\n"
   ]
  },
  {
   "cell_type": "code",
   "execution_count": 102,
   "metadata": {},
   "outputs": [],
   "source": [
    "var builder = new SqlConnectionStringBuilder($\"Server=(local);Persist Security Info=False;Initial Catalog=Radius\");\n",
    "builder[\"Server\"] = server;\n",
    "builder.Password = _password.GetClearTextPassword();\n",
    "builder[\"UID\"] = username;\n",
    "builder[\"Connect Timeout\"] = 1000;\n",
    "builder[\"Trusted_Connection\"] = false;"
   ]
  },
  {
   "cell_type": "code",
   "execution_count": 104,
   "metadata": {},
   "outputs": [],
   "source": [
    "using Microsoft.AspNetCore.Html;\n",
    "Formatter<DataFrame>.Register((df, writer) =>\n",
    "{\n",
    "    var headers = new List<IHtmlContent>();\n",
    "    headers.Add(th(i(\"index\")));\n",
    "    headers.AddRange(df.Columns.Select(c => (IHtmlContent) th(c.Name)));\n",
    "    var rows = new List<List<IHtmlContent>>();\n",
    "    var take = 20;\n",
    "    for (var i = 0; i < Math.Min(take, df.Rows.Count); i++)\n",
    "    {\n",
    "        var cells = new List<IHtmlContent>();\n",
    "        cells.Add(td(i));\n",
    "        foreach (var obj in df.Rows[i])\n",
    "        {\n",
    "            cells.Add(td(obj));\n",
    "        }\n",
    "        rows.Add(cells);\n",
    "    }\n",
    "    \n",
    "    var t = table(\n",
    "        thead(\n",
    "            headers),\n",
    "        tbody(\n",
    "            rows.Select(\n",
    "                r => tr(r))));\n",
    "    \n",
    "    writer.Write(t);\n",
    "}, \"text/html\");"
   ]
  },
  {
   "cell_type": "markdown",
   "metadata": {},
   "source": [
    "### Classes to run benchmarks"
   ]
  },
  {
   "cell_type": "code",
   "execution_count": 105,
   "metadata": {},
   "outputs": [],
   "source": [
    "void Main()\n",
    "{\n",
    "\n",
    "}\n",
    "\n",
    "public class RadiusTest\n",
    "{\n",
    "    public string Name { get; set; }\n",
    "    public string Query { get; set; }\n",
    "}\n",
    "\n",
    "public class RadiusTestResult\n",
    "{\n",
    "    public string Name { get; set; }\n",
    "    public int RunNumber { get; set; }\n",
    "    public double DurationInSeconds { get; set; }\n",
    "}\n",
    "\n",
    "public class TestRunner\n",
    "{\n",
    "    private string connectionString;\n",
    "\n",
    "    public TestRunner(string connectionString)\n",
    "    {\n",
    "        this.connectionString = connectionString;\n",
    "    }\n",
    "\n",
    "    public RadiusTestResult Run(RadiusTest test, int runNumber)\n",
    "    {\n",
    "        using (var connection = new SqlConnection(this.connectionString))\n",
    "        {\n",
    "            connection.Open();\n",
    "            var stopwatch = new Stopwatch();\n",
    "\n",
    "            stopwatch.Reset();\n",
    "            stopwatch.Start();\n",
    "            Run(connection, test.Query);\n",
    "            stopwatch.Stop();\n",
    "            return new RadiusTestResult { Name = test.Name, RunNumber = runNumber, DurationInSeconds = stopwatch.ElapsedMilliseconds / 1000d };\n",
    "        }\n",
    "    }\n",
    "\n",
    "    public List<RadiusTestResult> RunSeries(RadiusTest test, int numberOfIterations)\n",
    "    {        \n",
    "        var results = new List<RadiusTestResult>();\n",
    "        for (int i = 0; i < numberOfIterations; i++)\n",
    "        {\n",
    "            results.Add(Run(test, i + 1));\n",
    "        }\n",
    "\n",
    "        return results;\n",
    "    }   \n",
    "\n",
    "    public List<RadiusTestResult> RunParallel(RadiusTest test, int numberOfIterations)\n",
    "    {\n",
    "        var results = Task.WhenAll(Enumerable\n",
    "            .Range(0, numberOfIterations)\n",
    "            .Select(i => Task.Run(() => Run(test, i + 1)))).Result;\n",
    "\n",
    "        return results.ToList();\n",
    "    }\n",
    "\n",
    "    private void Run(SqlConnection connection, string query)\n",
    "    {\n",
    "        SqlCommand command = new SqlCommand(query, connection);\n",
    "        command.CommandTimeout = 18000;\n",
    "\n",
    "        using (SqlDataReader reader = command.ExecuteReader())\n",
    "        {\n",
    "            reader.Read();\n",
    "        }\n",
    "    }\n",
    "}"
   ]
  },
  {
   "cell_type": "code",
   "execution_count": 106,
   "metadata": {},
   "outputs": [],
   "source": [
    "using XPlot.Plotly;\n",
    "using System.Linq;"
   ]
  },
  {
   "cell_type": "code",
   "execution_count": 112,
   "metadata": {},
   "outputs": [],
   "source": [
    "var testRunner = new TestRunner(builder.ConnectionString);\n",
    "\n",
    "void Plot(IEnumerable<RadiusTestResult> results, string name)\n",
    "{\n",
    "    var chart = Chart.Plot(\n",
    "        new [] {\n",
    "            new Graph.Bar()\n",
    "            {\n",
    "                x = results.Select(o => \"Run \" + o.RunNumber),\n",
    "                y = results.Select(o => o.DurationInSeconds),\n",
    "            }\n",
    "        }\n",
    "    );\n",
    "    \n",
    "    var average = results.Average(o => o.DurationInSeconds);\n",
    "    \n",
    "    var layout = new Layout.Layout {\n",
    "        shapes = new [] { new Graph.Shape { x0 = 0, y0 = average, x1 = results.Count() + 1, y1 = average, opacity = 0.5 } }\n",
    "    };\n",
    "\n",
    "    chart.WithLayout(layout);\n",
    "    chart.WithTitle(\"Benchmark: \" + name);\n",
    "    chart.WithYTitle(\"Duration in seconds\");\n",
    "    display(chart);\n",
    "}\n",
    "\n",
    "\n",
    "enum TestType\n",
    "{\n",
    "    Series, \n",
    "    Parallel\n",
    "}\n",
    "\n",
    "\n",
    "IList<RadiusTestResult> RunBenchmark(string name, string query, TestType testType, bool force = false)\n",
    "{\n",
    "    IList<RadiusTestResult> results;\n",
    "    if (!force)\n",
    "    {\n",
    "        results = JsonConvert.DeserializeObject<IList<RadiusTestResult>>(File.ReadAllText(name + \".json\"));\n",
    "    }\n",
    "    else\n",
    "    {\n",
    "        var test = new RadiusTest { Name = name, Query = query };\n",
    "        \n",
    "        display(\"Running \" + name + \"...\");\n",
    "\n",
    "\n",
    "        switch (testType)\n",
    "        {\n",
    "            case TestType.Series: \n",
    "                results = testRunner.RunSeries(test, 10);\n",
    "                break;\n",
    "            case TestType.Parallel:\n",
    "                results = testRunner.RunParallel(test, 10);\n",
    "                break;\n",
    "            default:\n",
    "                throw new ArgumentException(\"Invalid testType\");\n",
    "        }\n",
    "\n",
    "        File.WriteAllText(name + \".json\", JsonConvert.SerializeObject(results));\n",
    "    }\n",
    "    \n",
    "    display(results);\n",
    "    Plot(results, name);\n",
    "    return results;\n",
    "}"
   ]
  },
  {
   "cell_type": "markdown",
   "metadata": {},
   "source": [
    "## Run benchmarks\n",
    "\n",
    "### Method\n",
    "\n",
    "A pre-existing Azure Data Lake Analytics query was ported over to SQL Serverless.\n",
    "\n",
    "To replicate the real-world scenario the query was decomposed into a set of views. The views read raw data from the data lake and progressively perform various transformations including data type conversions and aggregations.\n",
    "\n",
    "Each set of views were replicated to work with each parser under test. The following parsers were used:\n",
    "\n",
    "- Parquet\n",
    "- CSV\n",
    "- CSV 2.0\n",
    "\n",
    "Raw data was pre-parsed into both Parquet and CSV formats and stored as a single file (~ 2GB) as well as separate hourly partitions.\n",
    "\n",
    "![Files partitioned by hour](files-partitioned-by-hour.png)\n",
    "\n",
    "To highlight the impact of code starts, resource contention etc. the query for each combination of parser and file source is executed 10 times, once in series and once with all 10 queries running concurrently.\n",
    "\n",
    "This equates to a total of 12 invidual test runs.\n",
    "\n",
    "| Parser | Source | Execution |\n",
    "|-|-|-|\n",
    "| Parquet | Single File | Series |\n",
    "| Parquet | Single File | Parallel |\n",
    "| Parquet | Muliple Files | Series |\n",
    "| Parquet | Multiple Files | Parallel |\n",
    "| CSV | Single File | Series |\n",
    "| CSV | Single File | Parallel |\n",
    "| CSV | Muliple Files | Series |\n",
    "| CSV | Multiple Files | Parallel |\n",
    "| CSV 2.0 | Single File | Series |\n",
    "| CSV 2.0 | Single File | Parallel |\n",
    "| CSV 2.0 | Muliple Files | Series |\n",
    "| CSV 2.0 | Multiple Files | Parallel |\n",
    "\n",
    "### Running the benchmarks\n",
    "\n",
    "Each test is defined in it's own cell.\n",
    "\n",
    "For consistent results it's recommended to execute the entire notebook rather than running individual cells. This ensures there is negligable time between tests and avoids unintended cold starts.\n",
    "\n",
    "All benchmark results are automatically persisted. This not only allows a point in time snapshot to be recorded and maintain between notebook kernel restrats but also can be useful when working with the results of a previous run.\n",
    "\n",
    "To force the re-execution of the benchmaks then set `force` variable below to `true` and then re-run the notebook. When `force` is `false` the notebook will will first check to see if persisted results already exist and will return these, otherwise then the benchmark will be re-executed."
   ]
  },
  {
   "cell_type": "code",
   "execution_count": 168,
   "metadata": {},
   "outputs": [],
   "source": [
    "var force = false;"
   ]
  },
  {
   "cell_type": "markdown",
   "metadata": {},
   "source": [
    "### Parquet, Single File, Series"
   ]
  },
  {
   "cell_type": "code",
   "execution_count": 169,
   "metadata": {},
   "outputs": [
    {
     "data": {
      "text/plain": [
       "Running Parquet, Single File, Series..."
      ]
     },
     "metadata": {},
     "output_type": "display_data"
    },
    {
     "data": {
      "text/html": [
       "<table><thead><tr><th><i>index</i></th><th>Name</th><th>RunNumber</th><th>DurationInSeconds</th></tr></thead><tbody><tr><td>0</td><td>Parquet, Single File, Series</td><td>1</td><td>26.917</td></tr><tr><td>1</td><td>Parquet, Single File, Series</td><td>2</td><td>23.188</td></tr><tr><td>2</td><td>Parquet, Single File, Series</td><td>3</td><td>24.902</td></tr><tr><td>3</td><td>Parquet, Single File, Series</td><td>4</td><td>25.287</td></tr><tr><td>4</td><td>Parquet, Single File, Series</td><td>5</td><td>28.016</td></tr><tr><td>5</td><td>Parquet, Single File, Series</td><td>6</td><td>29.495</td></tr><tr><td>6</td><td>Parquet, Single File, Series</td><td>7</td><td>29.909</td></tr><tr><td>7</td><td>Parquet, Single File, Series</td><td>8</td><td>29.881</td></tr><tr><td>8</td><td>Parquet, Single File, Series</td><td>9</td><td>31.289</td></tr><tr><td>9</td><td>Parquet, Single File, Series</td><td>10</td><td>30.315</td></tr></tbody></table>"
      ]
     },
     "metadata": {},
     "output_type": "display_data"
    },
    {
     "data": {
      "text/html": [
       "<div id=\"fb085e31-c84c-4a99-a9ba-47f557606e90\" style=\"width: 900px; height: 500px;\"></div>\r\n",
       "<script type=\"text/javascript\">\r\n",
       "\r\n",
       "var renderPlotly = function() {\r\n",
       "    var xplotRequire = requirejs.config({context:'xplot-3.0.1',paths:{plotly:'https://cdn.plot.ly/plotly-1.49.2.min'}});\r\n",
       "    xplotRequire(['plotly'], function(Plotly) {\r\n",
       "\n",
       "            var data = [{\"type\":\"bar\",\"x\":[\"Run 1\",\"Run 2\",\"Run 3\",\"Run 4\",\"Run 5\",\"Run 6\",\"Run 7\",\"Run 8\",\"Run 9\",\"Run 10\"],\"y\":[26.917,23.188,24.902,25.287,28.016,29.495,29.909,29.881,31.289,30.315]}];\n",
       "            var layout = {\"title\":\"Benchmark: Parquet, Single File, Series\",\"yaxis\":{\"title\":\"Duration in seconds\",\"_isSubplotObj\":true},\"shapes\":[{\"x0\":0,\"x1\":11,\"y0\":27.919900000000002,\"y1\":27.919900000000002,\"opacity\":0.5}]};\n",
       "            Plotly.newPlot('fb085e31-c84c-4a99-a9ba-47f557606e90', data, layout);\n",
       "        \r\n",
       "});\r\n",
       "};\r\n",
       "if ((typeof(requirejs) !==  typeof(Function)) || (typeof(requirejs.config) !== typeof(Function))) { \r\n",
       "    var script = document.createElement(\"script\"); \r\n",
       "    script.setAttribute(\"src\", \"https://cdnjs.cloudflare.com/ajax/libs/require.js/2.3.6/require.min.js\"); \r\n",
       "    script.onload = function(){\r\n",
       "        renderPlotly();\r\n",
       "    };\r\n",
       "    document.getElementsByTagName(\"head\")[0].appendChild(script); \r\n",
       "}\r\n",
       "else {\r\n",
       "    renderPlotly();\r\n",
       "}\r\n",
       "</script>\r\n"
      ]
     },
     "metadata": {},
     "output_type": "display_data"
    }
   ],
   "source": [
    "var parquetSingleFileSeriesResults = RunBenchmark(\"Parquet, Single File, Series\", \"SELECT * FROM NetworkHealth_Parquet_SingleFile\", TestType.Series, force);"
   ]
  },
  {
   "cell_type": "markdown",
   "metadata": {},
   "source": [
    "### Observations\n",
    "\n",
    "The average duration was ~ 27 seconds per run and the performance was consistent. There was no noticable cold start up times."
   ]
  },
  {
   "cell_type": "markdown",
   "metadata": {},
   "source": [
    "### Parquet, Single File, Parallel"
   ]
  },
  {
   "cell_type": "code",
   "execution_count": 170,
   "metadata": {},
   "outputs": [
    {
     "data": {
      "text/plain": [
       "Running Parquet, Single File, Parallel..."
      ]
     },
     "metadata": {},
     "output_type": "display_data"
    },
    {
     "data": {
      "text/html": [
       "<table><thead><tr><th><i>index</i></th><th>Name</th><th>RunNumber</th><th>DurationInSeconds</th></tr></thead><tbody><tr><td>0</td><td>Parquet, Single File, Parallel</td><td>1</td><td>32.062</td></tr><tr><td>1</td><td>Parquet, Single File, Parallel</td><td>2</td><td>40.851</td></tr><tr><td>2</td><td>Parquet, Single File, Parallel</td><td>3</td><td>57.786</td></tr><tr><td>3</td><td>Parquet, Single File, Parallel</td><td>4</td><td>76.208</td></tr><tr><td>4</td><td>Parquet, Single File, Parallel</td><td>5</td><td>87.572</td></tr><tr><td>5</td><td>Parquet, Single File, Parallel</td><td>6</td><td>104.077</td></tr><tr><td>6</td><td>Parquet, Single File, Parallel</td><td>7</td><td>138.122</td></tr><tr><td>7</td><td>Parquet, Single File, Parallel</td><td>8</td><td>120.539</td></tr><tr><td>8</td><td>Parquet, Single File, Parallel</td><td>9</td><td>151.543</td></tr><tr><td>9</td><td>Parquet, Single File, Parallel</td><td>10</td><td>167.31</td></tr></tbody></table>"
      ]
     },
     "metadata": {},
     "output_type": "display_data"
    },
    {
     "data": {
      "text/html": [
       "<div id=\"fbc915a1-1249-46e2-95e5-650174c3b219\" style=\"width: 900px; height: 500px;\"></div>\r\n",
       "<script type=\"text/javascript\">\r\n",
       "\r\n",
       "var renderPlotly = function() {\r\n",
       "    var xplotRequire = requirejs.config({context:'xplot-3.0.1',paths:{plotly:'https://cdn.plot.ly/plotly-1.49.2.min'}});\r\n",
       "    xplotRequire(['plotly'], function(Plotly) {\r\n",
       "\n",
       "            var data = [{\"type\":\"bar\",\"x\":[\"Run 1\",\"Run 2\",\"Run 3\",\"Run 4\",\"Run 5\",\"Run 6\",\"Run 7\",\"Run 8\",\"Run 9\",\"Run 10\"],\"y\":[32.062,40.851,57.786,76.208,87.572,104.077,138.122,120.539,151.543,167.31]}];\n",
       "            var layout = {\"title\":\"Benchmark: Parquet, Single File, Parallel\",\"yaxis\":{\"title\":\"Duration in seconds\",\"_isSubplotObj\":true},\"shapes\":[{\"x0\":0,\"x1\":11,\"y0\":97.60700000000001,\"y1\":97.60700000000001,\"opacity\":0.5}]};\n",
       "            Plotly.newPlot('fbc915a1-1249-46e2-95e5-650174c3b219', data, layout);\n",
       "        \r\n",
       "});\r\n",
       "};\r\n",
       "if ((typeof(requirejs) !==  typeof(Function)) || (typeof(requirejs.config) !== typeof(Function))) { \r\n",
       "    var script = document.createElement(\"script\"); \r\n",
       "    script.setAttribute(\"src\", \"https://cdnjs.cloudflare.com/ajax/libs/require.js/2.3.6/require.min.js\"); \r\n",
       "    script.onload = function(){\r\n",
       "        renderPlotly();\r\n",
       "    };\r\n",
       "    document.getElementsByTagName(\"head\")[0].appendChild(script); \r\n",
       "}\r\n",
       "else {\r\n",
       "    renderPlotly();\r\n",
       "}\r\n",
       "</script>\r\n"
      ]
     },
     "metadata": {},
     "output_type": "display_data"
    }
   ],
   "source": [
    "var parquetSingleFileParallelResults = RunBenchmark(\"Parquet, Single File, Parallel\", \"SELECT * FROM NetworkHealth_Parquet_SingleFile\", TestType.Parallel, force);"
   ]
  },
  {
   "cell_type": "markdown",
   "metadata": {},
   "source": [
    "It appears that the time it takes is increasing linearly based on the number of runs. Re-order to be sure."
   ]
  },
  {
   "cell_type": "code",
   "execution_count": 171,
   "metadata": {},
   "outputs": [
    {
     "data": {
      "text/html": [
       "<div id=\"d51ddb79-ee41-4d45-8b55-f247e6acc794\" style=\"width: 900px; height: 500px;\"></div>\r\n",
       "<script type=\"text/javascript\">\r\n",
       "\r\n",
       "var renderPlotly = function() {\r\n",
       "    var xplotRequire = requirejs.config({context:'xplot-3.0.1',paths:{plotly:'https://cdn.plot.ly/plotly-1.49.2.min'}});\r\n",
       "    xplotRequire(['plotly'], function(Plotly) {\r\n",
       "\n",
       "            var data = [{\"type\":\"bar\",\"x\":[\"Run 1\",\"Run 2\",\"Run 3\",\"Run 4\",\"Run 5\",\"Run 6\",\"Run 8\",\"Run 7\",\"Run 9\",\"Run 10\"],\"y\":[32.062,40.851,57.786,76.208,87.572,104.077,120.539,138.122,151.543,167.31]}];\n",
       "            var layout = {\"title\":\"Benchmark: Parquet, Single File, Parallel - Ordered by duration\",\"yaxis\":{\"title\":\"Duration in seconds\",\"_isSubplotObj\":true},\"shapes\":[{\"x0\":0,\"x1\":11,\"y0\":97.60700000000001,\"y1\":97.60700000000001,\"opacity\":0.5}]};\n",
       "            Plotly.newPlot('d51ddb79-ee41-4d45-8b55-f247e6acc794', data, layout);\n",
       "        \r\n",
       "});\r\n",
       "};\r\n",
       "if ((typeof(requirejs) !==  typeof(Function)) || (typeof(requirejs.config) !== typeof(Function))) { \r\n",
       "    var script = document.createElement(\"script\"); \r\n",
       "    script.setAttribute(\"src\", \"https://cdnjs.cloudflare.com/ajax/libs/require.js/2.3.6/require.min.js\"); \r\n",
       "    script.onload = function(){\r\n",
       "        renderPlotly();\r\n",
       "    };\r\n",
       "    document.getElementsByTagName(\"head\")[0].appendChild(script); \r\n",
       "}\r\n",
       "else {\r\n",
       "    renderPlotly();\r\n",
       "}\r\n",
       "</script>\r\n"
      ]
     },
     "metadata": {},
     "output_type": "display_data"
    }
   ],
   "source": [
    "var r = parquetSingleFileParallelResults.OrderBy(o => o.DurationInSeconds).ToList();\n",
    "Plot(r, \"Parquet, Single File, Parallel - Ordered by duration\");"
   ]
  },
  {
   "cell_type": "markdown",
   "metadata": {},
   "source": [
    "### Observations\n",
    "\n",
    "Parallel runs shows a steady increase in execution time - we can see this more clearly when ordering by duration since parallelizing will naturally randomise the execution order.\n",
    "This indicates that there is resource contention when running a single file. When raising this with Microsoft they confirmed that internally that queries will often run on the same 'node' if they query the same files. It is likely that Synapse is taking advantage of local caching for more efficient processing.\n",
    "\n",
    "In the real-world this may or may not be a problem. One scenario where this could be an issue is if you are performing lots of processing in response to new files arriving. Multiple pipelines may trigger at the same time causing contention. What isn't clear is whether this behaviour is a result of performing *any* query against a single file or the *same* query against a single file. This requires further investigation.\n",
    "\n",
    "**TODO**: Experiment to determine whether single file resource contention is governed by the file or the query.\n",
    "\n",
    "**Feedback to Microsoft:** Contention when running queries concurrently against the same file may cause issues in production scenarios, especially for architectures that have responsive data processing in response to new files arriving. Is is possible to detect this condition and provide more uniform performance?\n",
    "    "
   ]
  },
  {
   "cell_type": "markdown",
   "metadata": {},
   "source": [
    "### Parquet, Mulitple Files, Series"
   ]
  },
  {
   "cell_type": "code",
   "execution_count": 172,
   "metadata": {},
   "outputs": [
    {
     "data": {
      "text/plain": [
       "Running Parquet, Multiple Files, Series..."
      ]
     },
     "metadata": {},
     "output_type": "display_data"
    },
    {
     "data": {
      "text/html": [
       "<table><thead><tr><th><i>index</i></th><th>Name</th><th>RunNumber</th><th>DurationInSeconds</th></tr></thead><tbody><tr><td>0</td><td>Parquet, Multiple Files, Series</td><td>1</td><td>40.874</td></tr><tr><td>1</td><td>Parquet, Multiple Files, Series</td><td>2</td><td>16.045</td></tr><tr><td>2</td><td>Parquet, Multiple Files, Series</td><td>3</td><td>15.454</td></tr><tr><td>3</td><td>Parquet, Multiple Files, Series</td><td>4</td><td>15.391</td></tr><tr><td>4</td><td>Parquet, Multiple Files, Series</td><td>5</td><td>16.79</td></tr><tr><td>5</td><td>Parquet, Multiple Files, Series</td><td>6</td><td>16.034</td></tr><tr><td>6</td><td>Parquet, Multiple Files, Series</td><td>7</td><td>15.8</td></tr><tr><td>7</td><td>Parquet, Multiple Files, Series</td><td>8</td><td>15.847</td></tr><tr><td>8</td><td>Parquet, Multiple Files, Series</td><td>9</td><td>16.007</td></tr><tr><td>9</td><td>Parquet, Multiple Files, Series</td><td>10</td><td>16.338</td></tr></tbody></table>"
      ]
     },
     "metadata": {},
     "output_type": "display_data"
    },
    {
     "data": {
      "text/html": [
       "<div id=\"65430ea0-1278-4b13-9886-2a23798dce5d\" style=\"width: 900px; height: 500px;\"></div>\r\n",
       "<script type=\"text/javascript\">\r\n",
       "\r\n",
       "var renderPlotly = function() {\r\n",
       "    var xplotRequire = requirejs.config({context:'xplot-3.0.1',paths:{plotly:'https://cdn.plot.ly/plotly-1.49.2.min'}});\r\n",
       "    xplotRequire(['plotly'], function(Plotly) {\r\n",
       "\n",
       "            var data = [{\"type\":\"bar\",\"x\":[\"Run 1\",\"Run 2\",\"Run 3\",\"Run 4\",\"Run 5\",\"Run 6\",\"Run 7\",\"Run 8\",\"Run 9\",\"Run 10\"],\"y\":[40.874,16.045,15.454,15.391,16.79,16.034,15.8,15.847,16.007,16.338]}];\n",
       "            var layout = {\"title\":\"Benchmark: Parquet, Multiple Files, Series\",\"yaxis\":{\"title\":\"Duration in seconds\",\"_isSubplotObj\":true},\"shapes\":[{\"x0\":0,\"x1\":11,\"y0\":18.458000000000002,\"y1\":18.458000000000002,\"opacity\":0.5}]};\n",
       "            Plotly.newPlot('65430ea0-1278-4b13-9886-2a23798dce5d', data, layout);\n",
       "        \r\n",
       "});\r\n",
       "};\r\n",
       "if ((typeof(requirejs) !==  typeof(Function)) || (typeof(requirejs.config) !== typeof(Function))) { \r\n",
       "    var script = document.createElement(\"script\"); \r\n",
       "    script.setAttribute(\"src\", \"https://cdnjs.cloudflare.com/ajax/libs/require.js/2.3.6/require.min.js\"); \r\n",
       "    script.onload = function(){\r\n",
       "        renderPlotly();\r\n",
       "    };\r\n",
       "    document.getElementsByTagName(\"head\")[0].appendChild(script); \r\n",
       "}\r\n",
       "else {\r\n",
       "    renderPlotly();\r\n",
       "}\r\n",
       "</script>\r\n"
      ]
     },
     "metadata": {},
     "output_type": "display_data"
    }
   ],
   "source": [
    "var parquetMultipleFilesSeriesResults = RunBenchmark(\"Parquet, Multiple Files, Series\", \"SELECT * FROM NetworkHealth_Parquet_MultipleFiles\", TestType.Series, force);"
   ]
  },
  {
   "cell_type": "markdown",
   "metadata": {},
   "source": [
    "### Observations\n",
    "\n",
    "The average duration was ~ 17 seconds, which was 10 seconds faster than the equivillent single file benchmark indicating that there is a significant performance advantage using smaller files.\n",
    "\n",
    "The first run took considerably longer than the rest. The test was executed immediately after the first so this was not as a result of a cold start.\n",
    "\n",
    "It's not particularly clear why the intial run took longer than the others.\n",
    "\n",
    "It is known that SQL Serverless generates statistics for Parquet files as queries are run, so it's possible that this initial time can be attributed to this."
   ]
  },
  {
   "cell_type": "markdown",
   "metadata": {},
   "source": [
    "### Parquet, Mulitple Files, Parallel"
   ]
  },
  {
   "cell_type": "code",
   "execution_count": 173,
   "metadata": {},
   "outputs": [
    {
     "data": {
      "text/plain": [
       "Running Parquet, Multiple Files, Parallel..."
      ]
     },
     "metadata": {},
     "output_type": "display_data"
    },
    {
     "data": {
      "text/html": [
       "<table><thead><tr><th><i>index</i></th><th>Name</th><th>RunNumber</th><th>DurationInSeconds</th></tr></thead><tbody><tr><td>0</td><td>Parquet, Multiple Files, Parallel</td><td>1</td><td>23.23</td></tr><tr><td>1</td><td>Parquet, Multiple Files, Parallel</td><td>2</td><td>22.899</td></tr><tr><td>2</td><td>Parquet, Multiple Files, Parallel</td><td>3</td><td>23.263</td></tr><tr><td>3</td><td>Parquet, Multiple Files, Parallel</td><td>4</td><td>19.919</td></tr><tr><td>4</td><td>Parquet, Multiple Files, Parallel</td><td>5</td><td>25.76</td></tr><tr><td>5</td><td>Parquet, Multiple Files, Parallel</td><td>6</td><td>24.662</td></tr><tr><td>6</td><td>Parquet, Multiple Files, Parallel</td><td>7</td><td>46.824</td></tr><tr><td>7</td><td>Parquet, Multiple Files, Parallel</td><td>8</td><td>34.809</td></tr><tr><td>8</td><td>Parquet, Multiple Files, Parallel</td><td>9</td><td>28.789</td></tr><tr><td>9</td><td>Parquet, Multiple Files, Parallel</td><td>10</td><td>40.313</td></tr></tbody></table>"
      ]
     },
     "metadata": {},
     "output_type": "display_data"
    },
    {
     "data": {
      "text/html": [
       "<div id=\"0ad532a3-7de5-4d30-a45d-ecd854bcab32\" style=\"width: 900px; height: 500px;\"></div>\r\n",
       "<script type=\"text/javascript\">\r\n",
       "\r\n",
       "var renderPlotly = function() {\r\n",
       "    var xplotRequire = requirejs.config({context:'xplot-3.0.1',paths:{plotly:'https://cdn.plot.ly/plotly-1.49.2.min'}});\r\n",
       "    xplotRequire(['plotly'], function(Plotly) {\r\n",
       "\n",
       "            var data = [{\"type\":\"bar\",\"x\":[\"Run 1\",\"Run 2\",\"Run 3\",\"Run 4\",\"Run 5\",\"Run 6\",\"Run 7\",\"Run 8\",\"Run 9\",\"Run 10\"],\"y\":[23.23,22.899,23.263,19.919,25.76,24.662,46.824,34.809,28.789,40.313]}];\n",
       "            var layout = {\"title\":\"Benchmark: Parquet, Multiple Files, Parallel\",\"yaxis\":{\"title\":\"Duration in seconds\",\"_isSubplotObj\":true},\"shapes\":[{\"x0\":0,\"x1\":11,\"y0\":29.0468,\"y1\":29.0468,\"opacity\":0.5}]};\n",
       "            Plotly.newPlot('0ad532a3-7de5-4d30-a45d-ecd854bcab32', data, layout);\n",
       "        \r\n",
       "});\r\n",
       "};\r\n",
       "if ((typeof(requirejs) !==  typeof(Function)) || (typeof(requirejs.config) !== typeof(Function))) { \r\n",
       "    var script = document.createElement(\"script\"); \r\n",
       "    script.setAttribute(\"src\", \"https://cdnjs.cloudflare.com/ajax/libs/require.js/2.3.6/require.min.js\"); \r\n",
       "    script.onload = function(){\r\n",
       "        renderPlotly();\r\n",
       "    };\r\n",
       "    document.getElementsByTagName(\"head\")[0].appendChild(script); \r\n",
       "}\r\n",
       "else {\r\n",
       "    renderPlotly();\r\n",
       "}\r\n",
       "</script>\r\n"
      ]
     },
     "metadata": {},
     "output_type": "display_data"
    }
   ],
   "source": [
    "var parquetMultipleFilesParallelResults = RunBenchmark(\"Parquet, Multiple Files, Parallel\", \"SELECT * FROM NetworkHealth_Parquet_MultipleFiles\", TestType.Parallel, force);"
   ]
  },
  {
   "cell_type": "markdown",
   "metadata": {},
   "source": [
    "The average duration was ~ 29 seconds. "
   ]
  },
  {
   "cell_type": "markdown",
   "metadata": {},
   "source": [
    "Order by duration:"
   ]
  },
  {
   "cell_type": "code",
   "execution_count": 184,
   "metadata": {},
   "outputs": [
    {
     "data": {
      "text/html": [
       "<div id=\"64abf702-e835-4412-bf82-77d2c5d52f84\" style=\"width: 900px; height: 500px;\"></div>\r\n",
       "<script type=\"text/javascript\">\r\n",
       "\r\n",
       "var renderPlotly = function() {\r\n",
       "    var xplotRequire = requirejs.config({context:'xplot-3.0.1',paths:{plotly:'https://cdn.plot.ly/plotly-1.49.2.min'}});\r\n",
       "    xplotRequire(['plotly'], function(Plotly) {\r\n",
       "\n",
       "            var data = [{\"type\":\"bar\",\"x\":[\"Run 4\",\"Run 2\",\"Run 1\",\"Run 3\",\"Run 6\",\"Run 5\",\"Run 9\",\"Run 8\",\"Run 10\",\"Run 7\"],\"y\":[19.919,22.899,23.23,23.263,24.662,25.76,28.789,34.809,40.313,46.824]}];\n",
       "            var layout = {\"title\":\"Benchmark: Parquet, Multiple Files, Parallel - Ordered by duration\",\"yaxis\":{\"title\":\"Duration in seconds\",\"_isSubplotObj\":true},\"shapes\":[{\"x0\":0,\"x1\":11,\"y0\":29.0468,\"y1\":29.0468,\"opacity\":0.5}]};\n",
       "            Plotly.newPlot('64abf702-e835-4412-bf82-77d2c5d52f84', data, layout);\n",
       "        \r\n",
       "});\r\n",
       "};\r\n",
       "if ((typeof(requirejs) !==  typeof(Function)) || (typeof(requirejs.config) !== typeof(Function))) { \r\n",
       "    var script = document.createElement(\"script\"); \r\n",
       "    script.setAttribute(\"src\", \"https://cdnjs.cloudflare.com/ajax/libs/require.js/2.3.6/require.min.js\"); \r\n",
       "    script.onload = function(){\r\n",
       "        renderPlotly();\r\n",
       "    };\r\n",
       "    document.getElementsByTagName(\"head\")[0].appendChild(script); \r\n",
       "}\r\n",
       "else {\r\n",
       "    renderPlotly();\r\n",
       "}\r\n",
       "</script>\r\n"
      ]
     },
     "metadata": {},
     "output_type": "display_data"
    }
   ],
   "source": [
    "var r = parquetMultipleFilesParallelResults.OrderBy(o => o.DurationInSeconds).ToList();\n",
    "Plot(r, \"Parquet, Multiple Files, Parallel - Ordered by duration\");"
   ]
  },
  {
   "cell_type": "markdown",
   "metadata": {},
   "source": [
    "### Observations\n",
    "\n",
    "The performance profile for parallel execution again indicates resource contention, only this time it appears to be less severe than when quering a single file in parallel. We appear to get better utilisation for the first sets of queries (Runs 4, 2, 1, 3, 6 and 5) before there is a gradual tail off in performance. Since we know that multiple smaller files offer better performance it follows that resources are able to process more queries before the effect of contention starts to becomes apparent."
   ]
  },
  {
   "cell_type": "markdown",
   "metadata": {},
   "source": [
    "### CSV, Single File, Series"
   ]
  },
  {
   "cell_type": "code",
   "execution_count": 174,
   "metadata": {},
   "outputs": [
    {
     "data": {
      "text/plain": [
       "Running CSV, Single File, Series..."
      ]
     },
     "metadata": {},
     "output_type": "display_data"
    },
    {
     "data": {
      "text/html": [
       "<table><thead><tr><th><i>index</i></th><th>Name</th><th>RunNumber</th><th>DurationInSeconds</th></tr></thead><tbody><tr><td>0</td><td>CSV, Single File, Series</td><td>1</td><td>101.949</td></tr><tr><td>1</td><td>CSV, Single File, Series</td><td>2</td><td>102.966</td></tr><tr><td>2</td><td>CSV, Single File, Series</td><td>3</td><td>102.17</td></tr><tr><td>3</td><td>CSV, Single File, Series</td><td>4</td><td>101.792</td></tr><tr><td>4</td><td>CSV, Single File, Series</td><td>5</td><td>101.293</td></tr><tr><td>5</td><td>CSV, Single File, Series</td><td>6</td><td>101.46</td></tr><tr><td>6</td><td>CSV, Single File, Series</td><td>7</td><td>101.577</td></tr><tr><td>7</td><td>CSV, Single File, Series</td><td>8</td><td>100.892</td></tr><tr><td>8</td><td>CSV, Single File, Series</td><td>9</td><td>102.088</td></tr><tr><td>9</td><td>CSV, Single File, Series</td><td>10</td><td>101.918</td></tr></tbody></table>"
      ]
     },
     "metadata": {},
     "output_type": "display_data"
    },
    {
     "data": {
      "text/html": [
       "<div id=\"36093714-7682-4bf2-b794-024c5368ea5f\" style=\"width: 900px; height: 500px;\"></div>\r\n",
       "<script type=\"text/javascript\">\r\n",
       "\r\n",
       "var renderPlotly = function() {\r\n",
       "    var xplotRequire = requirejs.config({context:'xplot-3.0.1',paths:{plotly:'https://cdn.plot.ly/plotly-1.49.2.min'}});\r\n",
       "    xplotRequire(['plotly'], function(Plotly) {\r\n",
       "\n",
       "            var data = [{\"type\":\"bar\",\"x\":[\"Run 1\",\"Run 2\",\"Run 3\",\"Run 4\",\"Run 5\",\"Run 6\",\"Run 7\",\"Run 8\",\"Run 9\",\"Run 10\"],\"y\":[101.949,102.966,102.17,101.792,101.293,101.46,101.577,100.892,102.088,101.918]}];\n",
       "            var layout = {\"title\":\"Benchmark: CSV, Single File, Series\",\"yaxis\":{\"title\":\"Duration in seconds\",\"_isSubplotObj\":true},\"shapes\":[{\"x0\":0,\"x1\":11,\"y0\":101.81049999999999,\"y1\":101.81049999999999,\"opacity\":0.5}]};\n",
       "            Plotly.newPlot('36093714-7682-4bf2-b794-024c5368ea5f', data, layout);\n",
       "        \r\n",
       "});\r\n",
       "};\r\n",
       "if ((typeof(requirejs) !==  typeof(Function)) || (typeof(requirejs.config) !== typeof(Function))) { \r\n",
       "    var script = document.createElement(\"script\"); \r\n",
       "    script.setAttribute(\"src\", \"https://cdnjs.cloudflare.com/ajax/libs/require.js/2.3.6/require.min.js\"); \r\n",
       "    script.onload = function(){\r\n",
       "        renderPlotly();\r\n",
       "    };\r\n",
       "    document.getElementsByTagName(\"head\")[0].appendChild(script); \r\n",
       "}\r\n",
       "else {\r\n",
       "    renderPlotly();\r\n",
       "}\r\n",
       "</script>\r\n"
      ]
     },
     "metadata": {},
     "output_type": "display_data"
    }
   ],
   "source": [
    "var csvSingleFileSeriesResults = RunBenchmark(\"CSV, Single File, Series\", \"SELECT * FROM NetworkHealth_CSV_SingleFile\", TestType.Series, force);"
   ]
  },
  {
   "cell_type": "markdown",
   "metadata": {},
   "source": [
    "### Observations\n",
    "\n",
    "CSV offers very consistent peformance at ~ 100 seconds per query.\n",
    "\n",
    "Query execution time significantly higher than for Parquet. "
   ]
  },
  {
   "cell_type": "markdown",
   "metadata": {},
   "source": [
    "During prevous test runs CSV would run faster than Parquet. This was counter intuative since SQL Serverless can use Parquet's statistics to generate more efficient queries.\n",
    "This was a reported to Microsoft who **confirmed that this was a bug**; CSV queries were incorrectly allocated more resources than Parquet and causing queries to return faster.\n",
    "\n",
    "Here we can see the average duration for CSV (~ 100 seconds) is now longer than for Parquet (~ 30s) which is more representative of what we would expected. We therefore conclude that this has now been fixed."
   ]
  },
  {
   "cell_type": "markdown",
   "metadata": {},
   "source": [
    "### CSV, Single File, Parallel"
   ]
  },
  {
   "cell_type": "code",
   "execution_count": 175,
   "metadata": {},
   "outputs": [
    {
     "data": {
      "text/plain": [
       "Running CSV, Single File, Parallel..."
      ]
     },
     "metadata": {},
     "output_type": "display_data"
    },
    {
     "data": {
      "text/html": [
       "<table><thead><tr><th><i>index</i></th><th>Name</th><th>RunNumber</th><th>DurationInSeconds</th></tr></thead><tbody><tr><td>0</td><td>CSV, Single File, Parallel</td><td>1</td><td>112.773</td></tr><tr><td>1</td><td>CSV, Single File, Parallel</td><td>2</td><td>112.966</td></tr><tr><td>2</td><td>CSV, Single File, Parallel</td><td>3</td><td>108.718</td></tr><tr><td>3</td><td>CSV, Single File, Parallel</td><td>4</td><td>199.517</td></tr><tr><td>4</td><td>CSV, Single File, Parallel</td><td>5</td><td>204.688</td></tr><tr><td>5</td><td>CSV, Single File, Parallel</td><td>6</td><td>212.055</td></tr><tr><td>6</td><td>CSV, Single File, Parallel</td><td>7</td><td>301.973</td></tr><tr><td>7</td><td>CSV, Single File, Parallel</td><td>8</td><td>311.552</td></tr><tr><td>8</td><td>CSV, Single File, Parallel</td><td>9</td><td>387.052</td></tr><tr><td>9</td><td>CSV, Single File, Parallel</td><td>10</td><td>307.699</td></tr></tbody></table>"
      ]
     },
     "metadata": {},
     "output_type": "display_data"
    },
    {
     "data": {
      "text/html": [
       "<div id=\"c889eacf-863a-4da5-bc51-8e692501dda2\" style=\"width: 900px; height: 500px;\"></div>\r\n",
       "<script type=\"text/javascript\">\r\n",
       "\r\n",
       "var renderPlotly = function() {\r\n",
       "    var xplotRequire = requirejs.config({context:'xplot-3.0.1',paths:{plotly:'https://cdn.plot.ly/plotly-1.49.2.min'}});\r\n",
       "    xplotRequire(['plotly'], function(Plotly) {\r\n",
       "\n",
       "            var data = [{\"type\":\"bar\",\"x\":[\"Run 1\",\"Run 2\",\"Run 3\",\"Run 4\",\"Run 5\",\"Run 6\",\"Run 7\",\"Run 8\",\"Run 9\",\"Run 10\"],\"y\":[112.773,112.966,108.718,199.517,204.688,212.055,301.973,311.552,387.052,307.699]}];\n",
       "            var layout = {\"title\":\"Benchmark: CSV, Single File, Parallel\",\"yaxis\":{\"title\":\"Duration in seconds\",\"_isSubplotObj\":true},\"shapes\":[{\"x0\":0,\"x1\":11,\"y0\":225.89929999999998,\"y1\":225.89929999999998,\"opacity\":0.5}]};\n",
       "            Plotly.newPlot('c889eacf-863a-4da5-bc51-8e692501dda2', data, layout);\n",
       "        \r\n",
       "});\r\n",
       "};\r\n",
       "if ((typeof(requirejs) !==  typeof(Function)) || (typeof(requirejs.config) !== typeof(Function))) { \r\n",
       "    var script = document.createElement(\"script\"); \r\n",
       "    script.setAttribute(\"src\", \"https://cdnjs.cloudflare.com/ajax/libs/require.js/2.3.6/require.min.js\"); \r\n",
       "    script.onload = function(){\r\n",
       "        renderPlotly();\r\n",
       "    };\r\n",
       "    document.getElementsByTagName(\"head\")[0].appendChild(script); \r\n",
       "}\r\n",
       "else {\r\n",
       "    renderPlotly();\r\n",
       "}\r\n",
       "</script>\r\n"
      ]
     },
     "metadata": {},
     "output_type": "display_data"
    }
   ],
   "source": [
    "var csvSingleFileParallelResults = RunBenchmark(\"CSV, Single File, Parallel\", \"SELECT * FROM NetworkHealth_CSV_SingleFile\", TestType.Parallel, force);"
   ]
  },
  {
   "cell_type": "markdown",
   "metadata": {},
   "source": [
    "Order by duration"
   ]
  },
  {
   "cell_type": "code",
   "execution_count": 185,
   "metadata": {},
   "outputs": [
    {
     "data": {
      "text/html": [
       "<div id=\"c74fdbd1-fd92-4e8d-b731-6765fa0c830d\" style=\"width: 900px; height: 500px;\"></div>\r\n",
       "<script type=\"text/javascript\">\r\n",
       "\r\n",
       "var renderPlotly = function() {\r\n",
       "    var xplotRequire = requirejs.config({context:'xplot-3.0.1',paths:{plotly:'https://cdn.plot.ly/plotly-1.49.2.min'}});\r\n",
       "    xplotRequire(['plotly'], function(Plotly) {\r\n",
       "\n",
       "            var data = [{\"type\":\"bar\",\"x\":[\"Run 3\",\"Run 1\",\"Run 2\",\"Run 4\",\"Run 5\",\"Run 6\",\"Run 7\",\"Run 10\",\"Run 8\",\"Run 9\"],\"y\":[108.718,112.773,112.966,199.517,204.688,212.055,301.973,307.699,311.552,387.052]}];\n",
       "            var layout = {\"title\":\"Benchmark: CSV, Single File, Parallel - Ordered by duration\",\"yaxis\":{\"title\":\"Duration in seconds\",\"_isSubplotObj\":true},\"shapes\":[{\"x0\":0,\"x1\":11,\"y0\":225.89929999999998,\"y1\":225.89929999999998,\"opacity\":0.5}]};\n",
       "            Plotly.newPlot('c74fdbd1-fd92-4e8d-b731-6765fa0c830d', data, layout);\n",
       "        \r\n",
       "});\r\n",
       "};\r\n",
       "if ((typeof(requirejs) !==  typeof(Function)) || (typeof(requirejs.config) !== typeof(Function))) { \r\n",
       "    var script = document.createElement(\"script\"); \r\n",
       "    script.setAttribute(\"src\", \"https://cdnjs.cloudflare.com/ajax/libs/require.js/2.3.6/require.min.js\"); \r\n",
       "    script.onload = function(){\r\n",
       "        renderPlotly();\r\n",
       "    };\r\n",
       "    document.getElementsByTagName(\"head\")[0].appendChild(script); \r\n",
       "}\r\n",
       "else {\r\n",
       "    renderPlotly();\r\n",
       "}\r\n",
       "</script>\r\n"
      ]
     },
     "metadata": {},
     "output_type": "display_data"
    }
   ],
   "source": [
    "var r = csvSingleFileParallelResults.OrderBy(o => o.DurationInSeconds).ToList();\n",
    "Plot(r, \"CSV, Single File, Parallel - Ordered by duration\");"
   ]
  },
  {
   "cell_type": "markdown",
   "metadata": {},
   "source": [
    "### Observations\n",
    "\n",
    "We see a distinct 'stepped' profile for CSV files. Again this is probably attributed to resource contention, but perhaps indicates jobs are queued and processed in strict batches. It's not clear why this is different to the Parquet profile."
   ]
  },
  {
   "cell_type": "markdown",
   "metadata": {},
   "source": [
    "### CSV, Multiple Files, Series"
   ]
  },
  {
   "cell_type": "code",
   "execution_count": 176,
   "metadata": {},
   "outputs": [
    {
     "data": {
      "text/plain": [
       "Running CSV, Multiple Files, Series..."
      ]
     },
     "metadata": {},
     "output_type": "display_data"
    },
    {
     "data": {
      "text/html": [
       "<table><thead><tr><th><i>index</i></th><th>Name</th><th>RunNumber</th><th>DurationInSeconds</th></tr></thead><tbody><tr><td>0</td><td>CSV, Multiple Files, Series</td><td>1</td><td>24.173</td></tr><tr><td>1</td><td>CSV, Multiple Files, Series</td><td>2</td><td>23.06</td></tr><tr><td>2</td><td>CSV, Multiple Files, Series</td><td>3</td><td>21.842</td></tr><tr><td>3</td><td>CSV, Multiple Files, Series</td><td>4</td><td>21.789</td></tr><tr><td>4</td><td>CSV, Multiple Files, Series</td><td>5</td><td>22.878</td></tr><tr><td>5</td><td>CSV, Multiple Files, Series</td><td>6</td><td>22.962</td></tr><tr><td>6</td><td>CSV, Multiple Files, Series</td><td>7</td><td>23.627</td></tr><tr><td>7</td><td>CSV, Multiple Files, Series</td><td>8</td><td>23.333</td></tr><tr><td>8</td><td>CSV, Multiple Files, Series</td><td>9</td><td>23.025</td></tr><tr><td>9</td><td>CSV, Multiple Files, Series</td><td>10</td><td>22.396</td></tr></tbody></table>"
      ]
     },
     "metadata": {},
     "output_type": "display_data"
    },
    {
     "data": {
      "text/html": [
       "<div id=\"03209480-2392-41be-a59b-78f1cd28a32a\" style=\"width: 900px; height: 500px;\"></div>\r\n",
       "<script type=\"text/javascript\">\r\n",
       "\r\n",
       "var renderPlotly = function() {\r\n",
       "    var xplotRequire = requirejs.config({context:'xplot-3.0.1',paths:{plotly:'https://cdn.plot.ly/plotly-1.49.2.min'}});\r\n",
       "    xplotRequire(['plotly'], function(Plotly) {\r\n",
       "\n",
       "            var data = [{\"type\":\"bar\",\"x\":[\"Run 1\",\"Run 2\",\"Run 3\",\"Run 4\",\"Run 5\",\"Run 6\",\"Run 7\",\"Run 8\",\"Run 9\",\"Run 10\"],\"y\":[24.173,23.06,21.842,21.789,22.878,22.962,23.627,23.333,23.025,22.396]}];\n",
       "            var layout = {\"title\":\"Benchmark: CSV, Multiple Files, Series\",\"yaxis\":{\"title\":\"Duration in seconds\",\"_isSubplotObj\":true},\"shapes\":[{\"x0\":0,\"x1\":11,\"y0\":22.908499999999997,\"y1\":22.908499999999997,\"opacity\":0.5}]};\n",
       "            Plotly.newPlot('03209480-2392-41be-a59b-78f1cd28a32a', data, layout);\n",
       "        \r\n",
       "});\r\n",
       "};\r\n",
       "if ((typeof(requirejs) !==  typeof(Function)) || (typeof(requirejs.config) !== typeof(Function))) { \r\n",
       "    var script = document.createElement(\"script\"); \r\n",
       "    script.setAttribute(\"src\", \"https://cdnjs.cloudflare.com/ajax/libs/require.js/2.3.6/require.min.js\"); \r\n",
       "    script.onload = function(){\r\n",
       "        renderPlotly();\r\n",
       "    };\r\n",
       "    document.getElementsByTagName(\"head\")[0].appendChild(script); \r\n",
       "}\r\n",
       "else {\r\n",
       "    renderPlotly();\r\n",
       "}\r\n",
       "</script>\r\n"
      ]
     },
     "metadata": {},
     "output_type": "display_data"
    }
   ],
   "source": [
    "var csvMultipleFilesSeriesResults = RunBenchmark(\"CSV, Multiple Files, Series\", \"SELECT * FROM NetworkHealth_CSV_MultipleFiles\", TestType.Series, force);"
   ]
  },
  {
   "cell_type": "markdown",
   "metadata": {},
   "source": [
    "### Observations\n",
    "\n",
    "Again we see consistent timings for CSV when run in series and better overall performance when running against multiple smaller files."
   ]
  },
  {
   "cell_type": "markdown",
   "metadata": {},
   "source": [
    "### CSV, Multiple Files, Parallel"
   ]
  },
  {
   "cell_type": "code",
   "execution_count": 177,
   "metadata": {},
   "outputs": [
    {
     "data": {
      "text/plain": [
       "Running CSV, Multiple Files, Parallel..."
      ]
     },
     "metadata": {},
     "output_type": "display_data"
    },
    {
     "data": {
      "text/html": [
       "<table><thead><tr><th><i>index</i></th><th>Name</th><th>RunNumber</th><th>DurationInSeconds</th></tr></thead><tbody><tr><td>0</td><td>CSV, Multiple Files, Parallel</td><td>1</td><td>34.803</td></tr><tr><td>1</td><td>CSV, Multiple Files, Parallel</td><td>2</td><td>49.949</td></tr><tr><td>2</td><td>CSV, Multiple Files, Parallel</td><td>3</td><td>35.545</td></tr><tr><td>3</td><td>CSV, Multiple Files, Parallel</td><td>4</td><td>39.86</td></tr><tr><td>4</td><td>CSV, Multiple Files, Parallel</td><td>5</td><td>38.06</td></tr><tr><td>5</td><td>CSV, Multiple Files, Parallel</td><td>6</td><td>43.19</td></tr><tr><td>6</td><td>CSV, Multiple Files, Parallel</td><td>7</td><td>54.644</td></tr><tr><td>7</td><td>CSV, Multiple Files, Parallel</td><td>8</td><td>53.038</td></tr><tr><td>8</td><td>CSV, Multiple Files, Parallel</td><td>9</td><td>63.416</td></tr><tr><td>9</td><td>CSV, Multiple Files, Parallel</td><td>10</td><td>64.406</td></tr></tbody></table>"
      ]
     },
     "metadata": {},
     "output_type": "display_data"
    },
    {
     "data": {
      "text/html": [
       "<div id=\"74a82fff-70e7-46de-a25b-f84c5b51145b\" style=\"width: 900px; height: 500px;\"></div>\r\n",
       "<script type=\"text/javascript\">\r\n",
       "\r\n",
       "var renderPlotly = function() {\r\n",
       "    var xplotRequire = requirejs.config({context:'xplot-3.0.1',paths:{plotly:'https://cdn.plot.ly/plotly-1.49.2.min'}});\r\n",
       "    xplotRequire(['plotly'], function(Plotly) {\r\n",
       "\n",
       "            var data = [{\"type\":\"bar\",\"x\":[\"Run 1\",\"Run 2\",\"Run 3\",\"Run 4\",\"Run 5\",\"Run 6\",\"Run 7\",\"Run 8\",\"Run 9\",\"Run 10\"],\"y\":[34.803,49.949,35.545,39.86,38.06,43.19,54.644,53.038,63.416,64.406]}];\n",
       "            var layout = {\"title\":\"Benchmark: CSV, Multiple Files, Parallel\",\"yaxis\":{\"title\":\"Duration in seconds\",\"_isSubplotObj\":true},\"shapes\":[{\"x0\":0,\"x1\":11,\"y0\":47.6911,\"y1\":47.6911,\"opacity\":0.5}]};\n",
       "            Plotly.newPlot('74a82fff-70e7-46de-a25b-f84c5b51145b', data, layout);\n",
       "        \r\n",
       "});\r\n",
       "};\r\n",
       "if ((typeof(requirejs) !==  typeof(Function)) || (typeof(requirejs.config) !== typeof(Function))) { \r\n",
       "    var script = document.createElement(\"script\"); \r\n",
       "    script.setAttribute(\"src\", \"https://cdnjs.cloudflare.com/ajax/libs/require.js/2.3.6/require.min.js\"); \r\n",
       "    script.onload = function(){\r\n",
       "        renderPlotly();\r\n",
       "    };\r\n",
       "    document.getElementsByTagName(\"head\")[0].appendChild(script); \r\n",
       "}\r\n",
       "else {\r\n",
       "    renderPlotly();\r\n",
       "}\r\n",
       "</script>\r\n"
      ]
     },
     "metadata": {},
     "output_type": "display_data"
    }
   ],
   "source": [
    "var csvMultipleFilesParallelResults = RunBenchmark(\"CSV, Multiple Files, Parallel\", \"SELECT * FROM NetworkHealth_CSV_MultipleFiles\", TestType.Parallel, force);"
   ]
  },
  {
   "cell_type": "markdown",
   "metadata": {},
   "source": [
    "Order by duration"
   ]
  },
  {
   "cell_type": "code",
   "execution_count": 187,
   "metadata": {},
   "outputs": [
    {
     "data": {
      "text/html": [
       "<div id=\"31eb107f-8b7b-44aa-a8b5-337472b10a64\" style=\"width: 900px; height: 500px;\"></div>\r\n",
       "<script type=\"text/javascript\">\r\n",
       "\r\n",
       "var renderPlotly = function() {\r\n",
       "    var xplotRequire = requirejs.config({context:'xplot-3.0.1',paths:{plotly:'https://cdn.plot.ly/plotly-1.49.2.min'}});\r\n",
       "    xplotRequire(['plotly'], function(Plotly) {\r\n",
       "\n",
       "            var data = [{\"type\":\"bar\",\"x\":[\"Run 1\",\"Run 3\",\"Run 5\",\"Run 4\",\"Run 6\",\"Run 2\",\"Run 8\",\"Run 7\",\"Run 9\",\"Run 10\"],\"y\":[34.803,35.545,38.06,39.86,43.19,49.949,53.038,54.644,63.416,64.406]}];\n",
       "            var layout = {\"title\":\"Benchmark: CSV, Multiple Files, Parallel - Ordered by duration\",\"yaxis\":{\"title\":\"Duration in seconds\",\"_isSubplotObj\":true},\"shapes\":[{\"x0\":0,\"x1\":11,\"y0\":47.6911,\"y1\":47.6911,\"opacity\":0.5}]};\n",
       "            Plotly.newPlot('31eb107f-8b7b-44aa-a8b5-337472b10a64', data, layout);\n",
       "        \r\n",
       "});\r\n",
       "};\r\n",
       "if ((typeof(requirejs) !==  typeof(Function)) || (typeof(requirejs.config) !== typeof(Function))) { \r\n",
       "    var script = document.createElement(\"script\"); \r\n",
       "    script.setAttribute(\"src\", \"https://cdnjs.cloudflare.com/ajax/libs/require.js/2.3.6/require.min.js\"); \r\n",
       "    script.onload = function(){\r\n",
       "        renderPlotly();\r\n",
       "    };\r\n",
       "    document.getElementsByTagName(\"head\")[0].appendChild(script); \r\n",
       "}\r\n",
       "else {\r\n",
       "    renderPlotly();\r\n",
       "}\r\n",
       "</script>\r\n"
      ]
     },
     "metadata": {},
     "output_type": "display_data"
    }
   ],
   "source": [
    "var r = csvMultipleFilesParallelResults.OrderBy(o => o.DurationInSeconds).ToList();\n",
    "Plot(r, \"CSV, Multiple Files, Parallel - Ordered by duration\");"
   ]
  },
  {
   "cell_type": "markdown",
   "metadata": {},
   "source": [
    "### Observations\n",
    "\n",
    "We see a similar profile to parquet. Interestingly, we don't observe the noticable 'stepped' profile as we did when run over a single file. This perhaps suggests that Syanapse uses the underlying file size to determine how work is processed."
   ]
  },
  {
   "cell_type": "markdown",
   "metadata": {},
   "source": [
    "### CSV 2.0, Single File, Series"
   ]
  },
  {
   "cell_type": "code",
   "execution_count": 178,
   "metadata": {},
   "outputs": [
    {
     "data": {
      "text/plain": [
       "Running CSV 2.0, Single File, Series..."
      ]
     },
     "metadata": {},
     "output_type": "display_data"
    },
    {
     "data": {
      "text/html": [
       "<table><thead><tr><th><i>index</i></th><th>Name</th><th>RunNumber</th><th>DurationInSeconds</th></tr></thead><tbody><tr><td>0</td><td>CSV 2.0, Single File, Series</td><td>1</td><td>22.72</td></tr><tr><td>1</td><td>CSV 2.0, Single File, Series</td><td>2</td><td>23.72</td></tr><tr><td>2</td><td>CSV 2.0, Single File, Series</td><td>3</td><td>24.809</td></tr><tr><td>3</td><td>CSV 2.0, Single File, Series</td><td>4</td><td>22.102</td></tr><tr><td>4</td><td>CSV 2.0, Single File, Series</td><td>5</td><td>21.817</td></tr><tr><td>5</td><td>CSV 2.0, Single File, Series</td><td>6</td><td>22.29</td></tr><tr><td>6</td><td>CSV 2.0, Single File, Series</td><td>7</td><td>22.895</td></tr><tr><td>7</td><td>CSV 2.0, Single File, Series</td><td>8</td><td>22.801</td></tr><tr><td>8</td><td>CSV 2.0, Single File, Series</td><td>9</td><td>22.854</td></tr><tr><td>9</td><td>CSV 2.0, Single File, Series</td><td>10</td><td>22.667</td></tr></tbody></table>"
      ]
     },
     "metadata": {},
     "output_type": "display_data"
    },
    {
     "data": {
      "text/html": [
       "<div id=\"0feb9c80-268a-4af9-8f69-1374b87e627a\" style=\"width: 900px; height: 500px;\"></div>\r\n",
       "<script type=\"text/javascript\">\r\n",
       "\r\n",
       "var renderPlotly = function() {\r\n",
       "    var xplotRequire = requirejs.config({context:'xplot-3.0.1',paths:{plotly:'https://cdn.plot.ly/plotly-1.49.2.min'}});\r\n",
       "    xplotRequire(['plotly'], function(Plotly) {\r\n",
       "\n",
       "            var data = [{\"type\":\"bar\",\"x\":[\"Run 1\",\"Run 2\",\"Run 3\",\"Run 4\",\"Run 5\",\"Run 6\",\"Run 7\",\"Run 8\",\"Run 9\",\"Run 10\"],\"y\":[22.72,23.72,24.809,22.102,21.817,22.29,22.895,22.801,22.854,22.667]}];\n",
       "            var layout = {\"title\":\"Benchmark: CSV 2.0, Single File, Series\",\"yaxis\":{\"title\":\"Duration in seconds\",\"_isSubplotObj\":true},\"shapes\":[{\"x0\":0,\"x1\":11,\"y0\":22.8675,\"y1\":22.8675,\"opacity\":0.5}]};\n",
       "            Plotly.newPlot('0feb9c80-268a-4af9-8f69-1374b87e627a', data, layout);\n",
       "        \r\n",
       "});\r\n",
       "};\r\n",
       "if ((typeof(requirejs) !==  typeof(Function)) || (typeof(requirejs.config) !== typeof(Function))) { \r\n",
       "    var script = document.createElement(\"script\"); \r\n",
       "    script.setAttribute(\"src\", \"https://cdnjs.cloudflare.com/ajax/libs/require.js/2.3.6/require.min.js\"); \r\n",
       "    script.onload = function(){\r\n",
       "        renderPlotly();\r\n",
       "    };\r\n",
       "    document.getElementsByTagName(\"head\")[0].appendChild(script); \r\n",
       "}\r\n",
       "else {\r\n",
       "    renderPlotly();\r\n",
       "}\r\n",
       "</script>\r\n"
      ]
     },
     "metadata": {},
     "output_type": "display_data"
    }
   ],
   "source": [
    "var csv20SingleFileSeriesResults = RunBenchmark(\"CSV 2.0, Single File, Series\", \"SELECT * FROM NetworkHealth_MisonCSV_SingleFile\", TestType.Series, force);"
   ]
  },
  {
   "cell_type": "markdown",
   "metadata": {},
   "source": [
    "### Observations\n",
    "\n",
    "CSV 2.0 was faster at processing single file in series than Parquet by approximately 5 seconds. This was unexpected since it's understood that CSV 2.0 is not able to take advantage of statistics.\n",
    "\n",
    "It's important to not that the query being executed reads all columns, so it's possible that other queries that read a subset of columns perform better with Parquet.\n",
    "\n",
    "**TODO:** Run an experiment to validate whether Parquet out performs CSV 2.0 when using a subset of columns."
   ]
  },
  {
   "cell_type": "markdown",
   "metadata": {},
   "source": [
    "### CSV 2.0, Single File, Parallel"
   ]
  },
  {
   "cell_type": "code",
   "execution_count": 179,
   "metadata": {},
   "outputs": [
    {
     "data": {
      "text/plain": [
       "Running CSV 2.0, Single File, Parallel..."
      ]
     },
     "metadata": {},
     "output_type": "display_data"
    },
    {
     "data": {
      "text/html": [
       "<table><thead><tr><th><i>index</i></th><th>Name</th><th>RunNumber</th><th>DurationInSeconds</th></tr></thead><tbody><tr><td>0</td><td>CSV 2.0, Single File, Parallel</td><td>1</td><td>28.181</td></tr><tr><td>1</td><td>CSV 2.0, Single File, Parallel</td><td>2</td><td>28.2</td></tr><tr><td>2</td><td>CSV 2.0, Single File, Parallel</td><td>3</td><td>37.912</td></tr><tr><td>3</td><td>CSV 2.0, Single File, Parallel</td><td>4</td><td>44.855</td></tr><tr><td>4</td><td>CSV 2.0, Single File, Parallel</td><td>5</td><td>57.222</td></tr><tr><td>5</td><td>CSV 2.0, Single File, Parallel</td><td>6</td><td>63.521</td></tr><tr><td>6</td><td>CSV 2.0, Single File, Parallel</td><td>7</td><td>88.211</td></tr><tr><td>7</td><td>CSV 2.0, Single File, Parallel</td><td>8</td><td>82.783</td></tr><tr><td>8</td><td>CSV 2.0, Single File, Parallel</td><td>9</td><td>103.505</td></tr><tr><td>9</td><td>CSV 2.0, Single File, Parallel</td><td>10</td><td>96.133</td></tr></tbody></table>"
      ]
     },
     "metadata": {},
     "output_type": "display_data"
    },
    {
     "data": {
      "text/html": [
       "<div id=\"10a53031-0d5e-4d6b-b263-f413fcaf0883\" style=\"width: 900px; height: 500px;\"></div>\r\n",
       "<script type=\"text/javascript\">\r\n",
       "\r\n",
       "var renderPlotly = function() {\r\n",
       "    var xplotRequire = requirejs.config({context:'xplot-3.0.1',paths:{plotly:'https://cdn.plot.ly/plotly-1.49.2.min'}});\r\n",
       "    xplotRequire(['plotly'], function(Plotly) {\r\n",
       "\n",
       "            var data = [{\"type\":\"bar\",\"x\":[\"Run 1\",\"Run 2\",\"Run 3\",\"Run 4\",\"Run 5\",\"Run 6\",\"Run 7\",\"Run 8\",\"Run 9\",\"Run 10\"],\"y\":[28.181,28.2,37.912,44.855,57.222,63.521,88.211,82.783,103.505,96.133]}];\n",
       "            var layout = {\"title\":\"Benchmark: CSV 2.0, Single File, Parallel\",\"yaxis\":{\"title\":\"Duration in seconds\",\"_isSubplotObj\":true},\"shapes\":[{\"x0\":0,\"x1\":11,\"y0\":63.05230000000002,\"y1\":63.05230000000002,\"opacity\":0.5}]};\n",
       "            Plotly.newPlot('10a53031-0d5e-4d6b-b263-f413fcaf0883', data, layout);\n",
       "        \r\n",
       "});\r\n",
       "};\r\n",
       "if ((typeof(requirejs) !==  typeof(Function)) || (typeof(requirejs.config) !== typeof(Function))) { \r\n",
       "    var script = document.createElement(\"script\"); \r\n",
       "    script.setAttribute(\"src\", \"https://cdnjs.cloudflare.com/ajax/libs/require.js/2.3.6/require.min.js\"); \r\n",
       "    script.onload = function(){\r\n",
       "        renderPlotly();\r\n",
       "    };\r\n",
       "    document.getElementsByTagName(\"head\")[0].appendChild(script); \r\n",
       "}\r\n",
       "else {\r\n",
       "    renderPlotly();\r\n",
       "}\r\n",
       "</script>\r\n"
      ]
     },
     "metadata": {},
     "output_type": "display_data"
    }
   ],
   "source": [
    "var csv20SingleFileParallelResults = RunBenchmark(\"CSV 2.0, Single File, Parallel\", \"SELECT * FROM NetworkHealth_MisonCSV_SingleFile\", TestType.Parallel, force);"
   ]
  },
  {
   "cell_type": "markdown",
   "metadata": {},
   "source": [
    "Order by duration"
   ]
  },
  {
   "cell_type": "code",
   "execution_count": 188,
   "metadata": {},
   "outputs": [
    {
     "data": {
      "text/html": [
       "<div id=\"5466b7a7-172d-44a1-8d54-30d4f8722ed0\" style=\"width: 900px; height: 500px;\"></div>\r\n",
       "<script type=\"text/javascript\">\r\n",
       "\r\n",
       "var renderPlotly = function() {\r\n",
       "    var xplotRequire = requirejs.config({context:'xplot-3.0.1',paths:{plotly:'https://cdn.plot.ly/plotly-1.49.2.min'}});\r\n",
       "    xplotRequire(['plotly'], function(Plotly) {\r\n",
       "\n",
       "            var data = [{\"type\":\"bar\",\"x\":[\"Run 1\",\"Run 2\",\"Run 3\",\"Run 4\",\"Run 5\",\"Run 6\",\"Run 8\",\"Run 7\",\"Run 10\",\"Run 9\"],\"y\":[28.181,28.2,37.912,44.855,57.222,63.521,82.783,88.211,96.133,103.505]}];\n",
       "            var layout = {\"title\":\"Benchmark: CSV 2.0, Single File, Parallel - Ordered by duration\",\"yaxis\":{\"title\":\"Duration in seconds\",\"_isSubplotObj\":true},\"shapes\":[{\"x0\":0,\"x1\":11,\"y0\":63.0523,\"y1\":63.0523,\"opacity\":0.5}]};\n",
       "            Plotly.newPlot('5466b7a7-172d-44a1-8d54-30d4f8722ed0', data, layout);\n",
       "        \r\n",
       "});\r\n",
       "};\r\n",
       "if ((typeof(requirejs) !==  typeof(Function)) || (typeof(requirejs.config) !== typeof(Function))) { \r\n",
       "    var script = document.createElement(\"script\"); \r\n",
       "    script.setAttribute(\"src\", \"https://cdnjs.cloudflare.com/ajax/libs/require.js/2.3.6/require.min.js\"); \r\n",
       "    script.onload = function(){\r\n",
       "        renderPlotly();\r\n",
       "    };\r\n",
       "    document.getElementsByTagName(\"head\")[0].appendChild(script); \r\n",
       "}\r\n",
       "else {\r\n",
       "    renderPlotly();\r\n",
       "}\r\n",
       "</script>\r\n"
      ]
     },
     "metadata": {},
     "output_type": "display_data"
    }
   ],
   "source": [
    "var r = csv20SingleFileParallelResults.OrderBy(o => o.DurationInSeconds).ToList();\n",
    "Plot(r, \"CSV 2.0, Single File, Parallel - Ordered by duration\");"
   ]
  },
  {
   "cell_type": "markdown",
   "metadata": {},
   "source": [
    "### Observations\n",
    "\n",
    "Once again we see a similar profile to Parquet.\n",
    "    \n",
    "CSV 2.0 is nearly 35 seconds faster, on average, than Parquet."
   ]
  },
  {
   "cell_type": "markdown",
   "metadata": {},
   "source": [
    "### CSV 2.0, Multiple Files, Series"
   ]
  },
  {
   "cell_type": "code",
   "execution_count": 180,
   "metadata": {},
   "outputs": [
    {
     "data": {
      "text/plain": [
       "Running CSV 2.0, Muliple Files, Series..."
      ]
     },
     "metadata": {},
     "output_type": "display_data"
    },
    {
     "data": {
      "text/html": [
       "<table><thead><tr><th><i>index</i></th><th>Name</th><th>RunNumber</th><th>DurationInSeconds</th></tr></thead><tbody><tr><td>0</td><td>CSV 2.0, Muliple Files, Series</td><td>1</td><td>21.995</td></tr><tr><td>1</td><td>CSV 2.0, Muliple Files, Series</td><td>2</td><td>20.302</td></tr><tr><td>2</td><td>CSV 2.0, Muliple Files, Series</td><td>3</td><td>18.981</td></tr><tr><td>3</td><td>CSV 2.0, Muliple Files, Series</td><td>4</td><td>18.973</td></tr><tr><td>4</td><td>CSV 2.0, Muliple Files, Series</td><td>5</td><td>19.092</td></tr><tr><td>5</td><td>CSV 2.0, Muliple Files, Series</td><td>6</td><td>21.013</td></tr><tr><td>6</td><td>CSV 2.0, Muliple Files, Series</td><td>7</td><td>20.259</td></tr><tr><td>7</td><td>CSV 2.0, Muliple Files, Series</td><td>8</td><td>19.456</td></tr><tr><td>8</td><td>CSV 2.0, Muliple Files, Series</td><td>9</td><td>22.324</td></tr><tr><td>9</td><td>CSV 2.0, Muliple Files, Series</td><td>10</td><td>19.647</td></tr></tbody></table>"
      ]
     },
     "metadata": {},
     "output_type": "display_data"
    },
    {
     "data": {
      "text/html": [
       "<div id=\"78209577-3a68-42d6-8da0-36dbc43c0c14\" style=\"width: 900px; height: 500px;\"></div>\r\n",
       "<script type=\"text/javascript\">\r\n",
       "\r\n",
       "var renderPlotly = function() {\r\n",
       "    var xplotRequire = requirejs.config({context:'xplot-3.0.1',paths:{plotly:'https://cdn.plot.ly/plotly-1.49.2.min'}});\r\n",
       "    xplotRequire(['plotly'], function(Plotly) {\r\n",
       "\n",
       "            var data = [{\"type\":\"bar\",\"x\":[\"Run 1\",\"Run 2\",\"Run 3\",\"Run 4\",\"Run 5\",\"Run 6\",\"Run 7\",\"Run 8\",\"Run 9\",\"Run 10\"],\"y\":[21.995,20.302,18.981,18.973,19.092,21.013,20.259,19.456,22.324,19.647]}];\n",
       "            var layout = {\"title\":\"Benchmark: CSV 2.0, Muliple Files, Series\",\"yaxis\":{\"title\":\"Duration in seconds\",\"_isSubplotObj\":true},\"shapes\":[{\"x0\":0,\"x1\":11,\"y0\":20.2042,\"y1\":20.2042,\"opacity\":0.5}]};\n",
       "            Plotly.newPlot('78209577-3a68-42d6-8da0-36dbc43c0c14', data, layout);\n",
       "        \r\n",
       "});\r\n",
       "};\r\n",
       "if ((typeof(requirejs) !==  typeof(Function)) || (typeof(requirejs.config) !== typeof(Function))) { \r\n",
       "    var script = document.createElement(\"script\"); \r\n",
       "    script.setAttribute(\"src\", \"https://cdnjs.cloudflare.com/ajax/libs/require.js/2.3.6/require.min.js\"); \r\n",
       "    script.onload = function(){\r\n",
       "        renderPlotly();\r\n",
       "    };\r\n",
       "    document.getElementsByTagName(\"head\")[0].appendChild(script); \r\n",
       "}\r\n",
       "else {\r\n",
       "    renderPlotly();\r\n",
       "}\r\n",
       "</script>\r\n"
      ]
     },
     "metadata": {},
     "output_type": "display_data"
    }
   ],
   "source": [
    "var csv20MultipleFilesSeriesResults = RunBenchmark(\"CSV 2.0, Muliple Files, Series\", \"SELECT * FROM NetworkHealth_MisonCSV_MultipleFiles\", TestType.Series, force);"
   ]
  },
  {
   "cell_type": "markdown",
   "metadata": {},
   "source": [
    "### Observations\n",
    "\n",
    "Parquet outperformed CSV 2.0 over multiple files in series by ~ 2 seconds."
   ]
  },
  {
   "cell_type": "markdown",
   "metadata": {},
   "source": [
    "### CSV 2.0, Multiple Files, Parallel"
   ]
  },
  {
   "cell_type": "code",
   "execution_count": 181,
   "metadata": {},
   "outputs": [
    {
     "data": {
      "text/plain": [
       "Running CSV 2.0, Muliple Files, Parallel..."
      ]
     },
     "metadata": {},
     "output_type": "display_data"
    },
    {
     "data": {
      "text/html": [
       "<table><thead><tr><th><i>index</i></th><th>Name</th><th>RunNumber</th><th>DurationInSeconds</th></tr></thead><tbody><tr><td>0</td><td>CSV 2.0, Muliple Files, Parallel</td><td>1</td><td>42.913</td></tr><tr><td>1</td><td>CSV 2.0, Muliple Files, Parallel</td><td>2</td><td>38.095</td></tr><tr><td>2</td><td>CSV 2.0, Muliple Files, Parallel</td><td>3</td><td>32.866</td></tr><tr><td>3</td><td>CSV 2.0, Muliple Files, Parallel</td><td>4</td><td>24.781</td></tr><tr><td>4</td><td>CSV 2.0, Muliple Files, Parallel</td><td>5</td><td>56.899</td></tr><tr><td>5</td><td>CSV 2.0, Muliple Files, Parallel</td><td>6</td><td>47.966</td></tr><tr><td>6</td><td>CSV 2.0, Muliple Files, Parallel</td><td>7</td><td>64.92</td></tr><tr><td>7</td><td>CSV 2.0, Muliple Files, Parallel</td><td>8</td><td>51.908</td></tr><tr><td>8</td><td>CSV 2.0, Muliple Files, Parallel</td><td>9</td><td>53.773</td></tr><tr><td>9</td><td>CSV 2.0, Muliple Files, Parallel</td><td>10</td><td>61.454</td></tr></tbody></table>"
      ]
     },
     "metadata": {},
     "output_type": "display_data"
    },
    {
     "data": {
      "text/html": [
       "<div id=\"cc062460-c252-4892-a9d1-1e4382e3dac8\" style=\"width: 900px; height: 500px;\"></div>\r\n",
       "<script type=\"text/javascript\">\r\n",
       "\r\n",
       "var renderPlotly = function() {\r\n",
       "    var xplotRequire = requirejs.config({context:'xplot-3.0.1',paths:{plotly:'https://cdn.plot.ly/plotly-1.49.2.min'}});\r\n",
       "    xplotRequire(['plotly'], function(Plotly) {\r\n",
       "\n",
       "            var data = [{\"type\":\"bar\",\"x\":[\"Run 1\",\"Run 2\",\"Run 3\",\"Run 4\",\"Run 5\",\"Run 6\",\"Run 7\",\"Run 8\",\"Run 9\",\"Run 10\"],\"y\":[42.913,38.095,32.866,24.781,56.899,47.966,64.92,51.908,53.773,61.454]}];\n",
       "            var layout = {\"title\":\"Benchmark: CSV 2.0, Muliple Files, Parallel\",\"yaxis\":{\"title\":\"Duration in seconds\",\"_isSubplotObj\":true},\"shapes\":[{\"x0\":0,\"x1\":11,\"y0\":47.557500000000005,\"y1\":47.557500000000005,\"opacity\":0.5}]};\n",
       "            Plotly.newPlot('cc062460-c252-4892-a9d1-1e4382e3dac8', data, layout);\n",
       "        \r\n",
       "});\r\n",
       "};\r\n",
       "if ((typeof(requirejs) !==  typeof(Function)) || (typeof(requirejs.config) !== typeof(Function))) { \r\n",
       "    var script = document.createElement(\"script\"); \r\n",
       "    script.setAttribute(\"src\", \"https://cdnjs.cloudflare.com/ajax/libs/require.js/2.3.6/require.min.js\"); \r\n",
       "    script.onload = function(){\r\n",
       "        renderPlotly();\r\n",
       "    };\r\n",
       "    document.getElementsByTagName(\"head\")[0].appendChild(script); \r\n",
       "}\r\n",
       "else {\r\n",
       "    renderPlotly();\r\n",
       "}\r\n",
       "</script>\r\n"
      ]
     },
     "metadata": {},
     "output_type": "display_data"
    }
   ],
   "source": [
    "var csv20MultipleFilesParallelResults = RunBenchmark(\"CSV 2.0, Muliple Files, Parallel\", \"SELECT * FROM NetworkHealth_MisonCSV_MultipleFiles\", TestType.Parallel, force);"
   ]
  },
  {
   "cell_type": "markdown",
   "metadata": {},
   "source": [
    "Order by duration"
   ]
  },
  {
   "cell_type": "code",
   "execution_count": 190,
   "metadata": {},
   "outputs": [
    {
     "data": {
      "text/html": [
       "<div id=\"3bd44471-fa81-4901-bdc2-ea7bf1aaabfe\" style=\"width: 900px; height: 500px;\"></div>\r\n",
       "<script type=\"text/javascript\">\r\n",
       "\r\n",
       "var renderPlotly = function() {\r\n",
       "    var xplotRequire = requirejs.config({context:'xplot-3.0.1',paths:{plotly:'https://cdn.plot.ly/plotly-1.49.2.min'}});\r\n",
       "    xplotRequire(['plotly'], function(Plotly) {\r\n",
       "\n",
       "            var data = [{\"type\":\"bar\",\"x\":[\"Run 4\",\"Run 3\",\"Run 2\",\"Run 1\",\"Run 6\",\"Run 8\",\"Run 9\",\"Run 5\",\"Run 10\",\"Run 7\"],\"y\":[24.781,32.866,38.095,42.913,47.966,51.908,53.773,56.899,61.454,64.92]}];\n",
       "            var layout = {\"title\":\"Benchmark: CSV 2.0, Multiple Files, Parallel - Ordered by duration\",\"yaxis\":{\"title\":\"Duration in seconds\",\"_isSubplotObj\":true},\"shapes\":[{\"x0\":0,\"x1\":11,\"y0\":47.557500000000005,\"y1\":47.557500000000005,\"opacity\":0.5}]};\n",
       "            Plotly.newPlot('3bd44471-fa81-4901-bdc2-ea7bf1aaabfe', data, layout);\n",
       "        \r\n",
       "});\r\n",
       "};\r\n",
       "if ((typeof(requirejs) !==  typeof(Function)) || (typeof(requirejs.config) !== typeof(Function))) { \r\n",
       "    var script = document.createElement(\"script\"); \r\n",
       "    script.setAttribute(\"src\", \"https://cdnjs.cloudflare.com/ajax/libs/require.js/2.3.6/require.min.js\"); \r\n",
       "    script.onload = function(){\r\n",
       "        renderPlotly();\r\n",
       "    };\r\n",
       "    document.getElementsByTagName(\"head\")[0].appendChild(script); \r\n",
       "}\r\n",
       "else {\r\n",
       "    renderPlotly();\r\n",
       "}\r\n",
       "</script>\r\n"
      ]
     },
     "metadata": {},
     "output_type": "display_data"
    }
   ],
   "source": [
    "var r = csv20MultipleFilesParallelResults.OrderBy(o => o.DurationInSeconds).ToList();\n",
    "Plot(r, \"CSV 2.0, Multiple Files, Parallel - Ordered by duration\");"
   ]
  },
  {
   "cell_type": "markdown",
   "metadata": {},
   "source": [
    "### Observations\n",
    "\n",
    "Parquet also outperforms CSV 2.0 over multiple files in parallel by ~ 19 seconds.\n",
    "\n",
    "Similar profile to Parquet."
   ]
  },
  {
   "cell_type": "markdown",
   "metadata": {},
   "source": [
    "## Average duration\n",
    "\n",
    "Work out and plot the average duration for all test runs."
   ]
  },
  {
   "cell_type": "code",
   "execution_count": 182,
   "metadata": {},
   "outputs": [
    {
     "data": {
      "text/html": [
       "<table><thead><tr><th><i>index</i></th><th>Name</th><th>AverageDurationInSeconds</th></tr></thead><tbody><tr><td>0</td><td>CSV, Single File, Parallel</td><td>225.89929999999998</td></tr><tr><td>1</td><td>CSV, Single File, Series</td><td>101.81049999999999</td></tr><tr><td>2</td><td>Parquet, Single File, Parallel</td><td>97.60700000000001</td></tr><tr><td>3</td><td>CSV 2.0, Single File, Parallel</td><td>63.05230000000002</td></tr><tr><td>4</td><td>CSV, Multiple Files, Parallel</td><td>47.6911</td></tr><tr><td>5</td><td>CSV 2.0, Muliple Files, Parallel</td><td>47.557500000000005</td></tr><tr><td>6</td><td>Parquet, Multiple Files, Parallel</td><td>29.0468</td></tr><tr><td>7</td><td>Parquet, Single File, Series</td><td>27.919900000000002</td></tr><tr><td>8</td><td>CSV, Multiple Files, Series</td><td>22.908499999999997</td></tr><tr><td>9</td><td>CSV 2.0, Single File, Series</td><td>22.8675</td></tr><tr><td>10</td><td>CSV 2.0, Muliple Files, Series</td><td>20.2042</td></tr><tr><td>11</td><td>Parquet, Multiple Files, Series</td><td>18.458000000000002</td></tr></tbody></table>"
      ]
     },
     "metadata": {},
     "output_type": "display_data"
    },
    {
     "data": {
      "text/html": [
       "<div id=\"e513e01b-79aa-4d60-bd53-0299350b5268\" style=\"width: 900px; height: 500px;\"></div>\r\n",
       "<script type=\"text/javascript\">\r\n",
       "\r\n",
       "var renderPlotly = function() {\r\n",
       "    var xplotRequire = requirejs.config({context:'xplot-3.0.1',paths:{plotly:'https://cdn.plot.ly/plotly-1.49.2.min'}});\r\n",
       "    xplotRequire(['plotly'], function(Plotly) {\r\n",
       "\n",
       "            var data = [{\"type\":\"bar\",\"x\":[\"CSV, Single File, Parallel\",\"CSV, Single File, Series\",\"Parquet, Single File, Parallel\",\"CSV 2.0, Single File, Parallel\",\"CSV, Multiple Files, Parallel\",\"CSV 2.0, Muliple Files, Parallel\",\"Parquet, Multiple Files, Parallel\",\"Parquet, Single File, Series\",\"CSV, Multiple Files, Series\",\"CSV 2.0, Single File, Series\",\"CSV 2.0, Muliple Files, Series\",\"Parquet, Multiple Files, Series\"],\"y\":[225.89929999999998,101.81049999999999,97.60700000000001,63.05230000000002,47.6911,47.557500000000005,29.0468,27.919900000000002,22.908499999999997,22.8675,20.2042,18.458000000000002]}];\n",
       "            var layout = {\"title\":\"Average duration\",\"margin\":{\"l\":20.0,\"r\":150.0,\"t\":50.0,\"b\":150.0}};\n",
       "            Plotly.newPlot('e513e01b-79aa-4d60-bd53-0299350b5268', data, layout);\n",
       "        \r\n",
       "});\r\n",
       "};\r\n",
       "if ((typeof(requirejs) !==  typeof(Function)) || (typeof(requirejs.config) !== typeof(Function))) { \r\n",
       "    var script = document.createElement(\"script\"); \r\n",
       "    script.setAttribute(\"src\", \"https://cdnjs.cloudflare.com/ajax/libs/require.js/2.3.6/require.min.js\"); \r\n",
       "    script.onload = function(){\r\n",
       "        renderPlotly();\r\n",
       "    };\r\n",
       "    document.getElementsByTagName(\"head\")[0].appendChild(script); \r\n",
       "}\r\n",
       "else {\r\n",
       "    renderPlotly();\r\n",
       "}\r\n",
       "</script>\r\n"
      ]
     },
     "metadata": {},
     "output_type": "display_data"
    }
   ],
   "source": [
    "var results = new IList<RadiusTestResult>[] \n",
    "{\n",
    "    parquetSingleFileSeriesResults,\n",
    "    parquetSingleFileParallelResults,\n",
    "    parquetMultipleFilesSeriesResults,\n",
    "    parquetMultipleFilesParallelResults,\n",
    "    csvSingleFileSeriesResults,\n",
    "    csvSingleFileParallelResults,\n",
    "    csvMultipleFilesSeriesResults,\n",
    "    csvMultipleFilesParallelResults,\n",
    "    csv20SingleFileSeriesResults,\n",
    "    csv20SingleFileParallelResults,\n",
    "    csv20MultipleFilesSeriesResults,\n",
    "    csv20MultipleFilesParallelResults,    \n",
    "};\n",
    "\n",
    "var summaryStats = results.SelectMany(o => o).GroupBy(r => r.Name, r => r.DurationInSeconds).Select(r => new { Name = r.Key, AverageDurationInSeconds = r.Average()}).OrderByDescending(r => r.AverageDurationInSeconds);\n",
    "display(summaryStats);\n",
    "\n",
    "var summaryChart = Chart.Plot(\n",
    "        new [] {\n",
    "            new Graph.Bar()\n",
    "            {\n",
    "                x = summaryStats.Select(o => o.Name),\n",
    "                y = summaryStats.Select(o => o.AverageDurationInSeconds),\n",
    "            }\n",
    "        }\n",
    "    );\n",
    "\n",
    "var summaryLayout = new Layout.Layout()\n",
    "{\n",
    "    title = \"Average duration\",\n",
    "    margin = new Graph.Margin {l = 20, r = 150, t=50, b=150}\n",
    "};\n",
    "\n",
    "summaryChart.WithLayout(summaryLayout);\n",
    "\n",
    "display(summaryChart);\n",
    "\n"
   ]
  },
  {
   "cell_type": "markdown",
   "metadata": {},
   "source": [
    "# Summary\n",
    "\n",
    "There are clearly several factors at play when determining the most suitable parser. \n",
    "\n",
    "Resource contention for parallel queries over the same file needs to be understood more.\n",
    "\n",
    "Architectures that rely on responsive data processing may be suseptible to slower performance when multiple queries are run concurrently against the same file. The design of these solutions may need to build in some form of delay in order avoid the appent resource contention.\n",
    "\n",
    "SQL Serverless pricing does not factor in duration only data volume scanned. Therefore the benefit of building in any delay to spread load and increase efficiency is likely to be offset by the delay itself. Also, since parser performance does not affect cost then the incentive to reduce resource ustilisation is low. This could result in higher costs to everyone using the service.\n",
    "\n",
    "CSV 2.0 is far superior to CSV if you can live with the difference in featureset.\n",
    "\n",
    "SQL Serverless offers a compelling alternative to Azure Data Lake Analytics. However, it does lack of extensibility features which will need to be considered.\n"
   ]
  }
 ],
 "metadata": {
  "kernelspec": {
   "display_name": ".NET (C#)",
   "language": "C#",
   "name": ".net-csharp"
  },
  "language_info": {
   "file_extension": ".cs",
   "mimetype": "text/x-csharp",
   "name": "C#",
   "pygments_lexer": "csharp",
   "version": "8.0"
  }
 },
 "nbformat": 4,
 "nbformat_minor": 4
}